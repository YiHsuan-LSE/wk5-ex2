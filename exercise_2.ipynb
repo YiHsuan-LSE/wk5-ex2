{
 "cells": [
  {
   "cell_type": "code",
   "execution_count": null,
   "id": "d738b155",
   "metadata": {},
   "outputs": [],
   "source": [
    "#hello"
   ]
  }
 ],
 "metadata": {
  "language_info": {
   "name": "python"
  }
 },
 "nbformat": 4,
 "nbformat_minor": 5
}
